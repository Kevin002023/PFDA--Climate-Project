{
 "cells": [
  {
   "cell_type": "markdown",
   "metadata": {},
   "source": [
    "#An analysis of paleo-present climate data\n",
    "\n",
    "An analysis of paleo-present climate data\n",
    "  - Analyse CO2 vs Temperature Anomaly from 800kyrs – present.\n",
    "  - Examine one other (paleo/modern) features (e.g. CH4 or polar ice-coverage)\n",
    "  - Examine Irish context:\n",
    "    - Climate change signals: (see Maynooth study: The emergence of a climate change\n",
    "signal in long-term Irish meteorological observations - ScienceDirect)\n",
    "  - Fuse and analyse data from various data sources and format fused data set as a pandas\n",
    "dataframe and export to csv and json formats\n",
    "  - For all of the above variables, analyse the data, the trends and the relationships between\n",
    "them (temporal leads/lags/frequency analysis).\n",
    "  - Predict global temperature anomaly over next few decades (synthesise data) and compare to\n",
    "published climate models if atmospheric CO2 trends continue\n",
    "  - Comment on accelerated warming based on very latest features (e.g. temperature"
   ]
  },
  {
   "cell_type": "markdown",
   "metadata": {},
   "source": [
    "In 1958 at the Mauna Loa Observatory in Hawaii, C. David Keeling began recording CO2 levels in the air. They produce a monthly mean carbon dioxide level report. It is the longest record of direct measurements of Co2 in the atmosphere.\n",
    "\n",
    "they also track CH4 and N20 levels. \n",
    "\n",
    "https://gml.noaa.gov/ccgg/trends/data.html\n",
    "\n",
    "unc = levels of uncertainty"
   ]
  },
  {
   "cell_type": "markdown",
   "metadata": {},
   "source": [
    "reading\n",
    "\n",
    "https://rpubs.com/gregory_halverson/mauna_loa"
   ]
  },
  {
   "cell_type": "markdown",
   "metadata": {},
   "source": []
  }
 ],
 "metadata": {
  "kernelspec": {
   "display_name": "base",
   "language": "python",
   "name": "python3"
  },
  "language_info": {
   "name": "python",
   "version": "3.11.5"
  }
 },
 "nbformat": 4,
 "nbformat_minor": 2
}
